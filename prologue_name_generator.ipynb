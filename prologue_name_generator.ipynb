{
 "cells": [
  {
   "cell_type": "code",
   "execution_count": 1,
   "metadata": {},
   "outputs": [],
   "source": [
    "import pandas as pd\n",
    "import random"
   ]
  },
  {
   "cell_type": "code",
   "execution_count": 2,
   "metadata": {},
   "outputs": [],
   "source": [
    "#csv読み込み\n",
    "df_jinmei = pd.read_csv('jinmei.csv') \n",
    "df_jouyou = pd.read_csv('jouyou.csv') \n",
    "df_shinsen = pd.read_csv('shinsen.csv') \n",
    "#list形式に変換（ほんとはたぶん１行で出来る）\n",
    "jinmei =df_jinmei[\"人名漢字\"].values.tolist()\n",
    "jouyou =df_jouyou[\"常用漢字\"].values.tolist()\n",
    "shinsen=df_shinsen[\"新撰姓氏録\"].values.tolist()"
   ]
  },
  {
   "cell_type": "code",
   "execution_count": 3,
   "metadata": {},
   "outputs": [],
   "source": [
    "mei=[] #常用漢字と人名漢字を一つのリストに統合\n",
    "mei.extend(jouyou)\n",
    "mei.extend(jinmei)\n",
    "onetwo=[1,2] #名前の文字数をランダムに１文字or２文字にするためのリスト"
   ]
  },
  {
   "cell_type": "code",
   "execution_count": 8,
   "metadata": {},
   "outputs": [
    {
     "name": "stdout",
     "output_type": "stream",
     "text": [
      "伯禰 優\n",
      "我孫 尽搬\n",
      "牟古 熙\n",
      "石川 曲宅\n",
      "安曇 襟\n",
      "刑部 塁陣\n",
      "依羅 除\n",
      "久米 賃箇\n",
      "日下部 諸\n",
      "林 扶摩\n",
      "出庭 看\n",
      "物部 屈\n",
      "楊津 間術\n",
      "佐為 硫\n",
      "酒人小川 寺謄\n",
      "汶斯氏 脅\n",
      "野上 遠\n",
      "丹比 蕉\n",
      "清原 従渓\n",
      "平田 届盛\n",
      "音太部 短栞\n",
      "新家 街専\n",
      "坂本 焚\n",
      "稅部 逸\n",
      "掃守田 手婚\n",
      "凡海 夕\n",
      "若湯坐 決裟\n",
      "林 醜醒\n",
      "茨田勝 紐網\n",
      "志紀 輔\n"
     ]
    }
   ],
   "source": [
    "#random.seed(1) #乱数列指定したいときはこの数字を変更\n",
    "\n",
    "#以下、ランダムにｎ個の名前を作成\n",
    "for i in range(30):\n",
    "    j = random.choice(onetwo)\n",
    "    print(random.choice(shinsen)+\" \"+''.join(random.sample(mei,j)))"
   ]
  },
  {
   "cell_type": "code",
   "execution_count": null,
   "metadata": {},
   "outputs": [],
   "source": []
  },
  {
   "cell_type": "code",
   "execution_count": null,
   "metadata": {},
   "outputs": [],
   "source": []
  }
 ],
 "metadata": {
  "kernelspec": {
   "display_name": "Python 3",
   "language": "python",
   "name": "python3"
  },
  "language_info": {
   "codemirror_mode": {
    "name": "ipython",
    "version": 3
   },
   "file_extension": ".py",
   "mimetype": "text/x-python",
   "name": "python",
   "nbconvert_exporter": "python",
   "pygments_lexer": "ipython3",
   "version": "3.7.2"
  }
 },
 "nbformat": 4,
 "nbformat_minor": 2
}
